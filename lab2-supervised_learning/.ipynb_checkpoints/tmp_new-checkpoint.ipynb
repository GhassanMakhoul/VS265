{
 "cells": [
  {
   "cell_type": "code",
   "execution_count": 1,
   "metadata": {
    "collapsed": true
   },
   "outputs": [],
   "source": [
    "# Modified from Redwood Wiki file lab2s.py - single neuron learning\n",
    "# I also stole some code from Brian Cheung's template (lab2m_template) on the Wiki.\n",
    "%matplotlib inline\n",
    "\n",
    "import numpy as np\n",
    "import matplotlib.pyplot as plt\n",
    "import pylab as plb\n",
    "from scipy.io import loadmat"
   ]
  },
  {
   "cell_type": "code",
   "execution_count": 2,
   "metadata": {
    "collapsed": true
   },
   "outputs": [],
   "source": [
    "np.random.seed(123456789)"
   ]
  },
  {
   "cell_type": "code",
   "execution_count": 3,
   "metadata": {
    "collapsed": true
   },
   "outputs": [],
   "source": [
    "def sigmoid(x):\n",
    "    return 1./(1.+np.exp(-x)) "
   ]
  },
  {
   "cell_type": "code",
   "execution_count": 6,
   "metadata": {
    "collapsed": false
   },
   "outputs": [],
   "source": [
    "# I'm going to load in all of the data\n",
    "apples = loadmat('data/apples.mat')\n",
    "apples2 = loadmat('data/apples2.mat')\n",
    "oranges = loadmat('data/oranges.mat')\n",
    "oranges2 = loadmat('data/oranges2.mat')"
   ]
  },
  {
   "cell_type": "code",
   "execution_count": 7,
   "metadata": {
    "collapsed": false
   },
   "outputs": [
    {
     "name": "stderr",
     "output_type": "stream",
     "text": [
      "/Users/shariqmobin/anaconda3/lib/python3.5/site-packages/numpy/core/numeric.py:190: VisibleDeprecationWarning: using a non-integer number instead of an integer will result in an error in the future\n",
      "  a = empty(shape, dtype, order)\n"
     ]
    }
   ],
   "source": [
    "# initialize data array\n",
    "data  = np.hstack((apples['apples'], apples2['apples2'],\n",
    "                   oranges['oranges'], oranges2['oranges2']))\n",
    "\n",
    "N,K = data.shape #axes (x,y), examples \n",
    "\n",
    "# initialize teacher\n",
    "teacher = np.hstack((np.ones(K/2), -1*np.ones(K/2)))\n",
    "\n",
    "data = np.append(data,teacher[:,np.newaxis].transpose(),axis=0)"
   ]
  },
  {
   "cell_type": "code",
   "execution_count": 8,
   "metadata": {
    "collapsed": false
   },
   "outputs": [
    {
     "ename": "NameError",
     "evalue": "name 'xrange' is not defined",
     "output_type": "error",
     "traceback": [
      "\u001b[0;31m---------------------------------------------------------------------------\u001b[0m",
      "\u001b[0;31mNameError\u001b[0m                                 Traceback (most recent call last)",
      "\u001b[0;32m<ipython-input-8-f692bbb2d323>\u001b[0m in \u001b[0;36m<module>\u001b[0;34m()\u001b[0m\n\u001b[1;32m     22\u001b[0m \u001b[0;34m\u001b[0m\u001b[0m\n\u001b[1;32m     23\u001b[0m \u001b[0;31m# Loop over num_trials\u001b[0m\u001b[0;34m\u001b[0m\u001b[0;34m\u001b[0m\u001b[0m\n\u001b[0;32m---> 24\u001b[0;31m \u001b[0;32mfor\u001b[0m \u001b[0mi\u001b[0m \u001b[0;32min\u001b[0m \u001b[0mxrange\u001b[0m\u001b[0;34m(\u001b[0m\u001b[0mnum_trials\u001b[0m\u001b[0;34m)\u001b[0m\u001b[0;34m:\u001b[0m\u001b[0;34m\u001b[0m\u001b[0m\n\u001b[0m\u001b[1;32m     25\u001b[0m     \u001b[0mdW\u001b[0m    \u001b[0;34m=\u001b[0m \u001b[0mnp\u001b[0m\u001b[0;34m.\u001b[0m\u001b[0mzeros_like\u001b[0m\u001b[0;34m(\u001b[0m\u001b[0mw\u001b[0m\u001b[0;34m)\u001b[0m\u001b[0;34m\u001b[0m\u001b[0m\n\u001b[1;32m     26\u001b[0m     \u001b[0merror\u001b[0m \u001b[0;34m=\u001b[0m \u001b[0mnp\u001b[0m\u001b[0;34m.\u001b[0m\u001b[0mzeros\u001b[0m\u001b[0;34m(\u001b[0m\u001b[0mbatch_size\u001b[0m\u001b[0;34m)\u001b[0m\u001b[0;34m\u001b[0m\u001b[0m\n",
      "\u001b[0;31mNameError\u001b[0m: name 'xrange' is not defined"
     ]
    }
   ],
   "source": [
    "# learning rate\n",
    "eta= 0.01\n",
    "\n",
    "# number of trials\n",
    "num_trials = 100\n",
    "\n",
    "# size of batches\n",
    "batch_size = K/2 # whole dataset\n",
    "\n",
    "# initialize weights\n",
    "w = np.random.randn(3) # first layer weights (incl bias)\n",
    "wInit = w\n",
    "\n",
    "# error matrix for plotting error over time\n",
    "errors = np.zeros(num_trials)\n",
    "\n",
    "# bias input is clamped at 1\n",
    "bias  = 1.\n",
    "\n",
    "## class = sign(w0+w1*data1+w2*data2)\n",
    "## Wnew = Wold + learn_rate*error*input\n",
    "\n",
    "# Loop over num_trials\n",
    "for i in range(num_trials):\n",
    "    dW    = np.zeros_like(w)\n",
    "    error = np.zeros(batch_size)\n",
    "    d_idx = np.random.choice(np.append(np.arange(0,K/4),np.arange(K/2,3*K/4)),batch_size,replace=False)\n",
    "    for j, d_val in enumerate(d_idx):\n",
    "        y = w[0]*bias+w[1]*data[0,d_val]+w[2]*data[1,d_val]\n",
    "        error[j] = data[2,d_val]-y\n",
    "        dW[0] += eta * error[j] * bias\n",
    "        dW[1] += eta * error[j] * data[0,d_val]\n",
    "        dW[2] += eta * error[j] * data[1,d_val]\n",
    "    errors[i] = 0.5*error.dot(error)\n",
    "    w += dW\n",
    "    \n",
    "# Plot data & decision boundary\n",
    "plt.plot(data[0,:K/4],data[1,:K/4],'r+',label='Apples')\n",
    "plt.plot(data[0,K/2:3*K/4],data[1,K/2:3*K/4],'yo',label='Oranges')\n",
    "# x1*w1 + x2*w2 + bias*w0 = 0\n",
    "# x2 = -(bias*w0 + x1*w1)/w2\n",
    "# Because at 0 represents the decision boundary\n",
    "# You can choose any 2 x1 vals, and figure out what respective x2 val is\n",
    "x1 = np.array([0.,5.])\n",
    "x2 = -(w[1]*x1+w[0])/w[2]\n",
    "\n",
    "plt.plot(x1,x2,'b-',label='Decision Boundary')\n",
    "plt.title('Comparing Apples & Oranges')\n",
    "plt.ylim([-2,4])\n",
    "plt.xlim([0.0,4.])\n",
    "plt.legend(bbox_to_anchor=(1.05,1),loc=2,borderaxespad=0.)\n",
    "plt.show()"
   ]
  },
  {
   "cell_type": "code",
   "execution_count": null,
   "metadata": {
    "collapsed": true
   },
   "outputs": [],
   "source": []
  }
 ],
 "metadata": {
  "kernelspec": {
   "display_name": "Python [Root]",
   "language": "python",
   "name": "Python [Root]"
  },
  "language_info": {
   "codemirror_mode": {
    "name": "ipython",
    "version": 3
   },
   "file_extension": ".py",
   "mimetype": "text/x-python",
   "name": "python",
   "nbconvert_exporter": "python",
   "pygments_lexer": "ipython3",
   "version": "3.5.2"
  }
 },
 "nbformat": 4,
 "nbformat_minor": 0
}
